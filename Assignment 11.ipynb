{
 "cells": [
  {
   "cell_type": "markdown",
   "id": "01707145",
   "metadata": {},
   "source": [
    "# Module: OOP Assignments\n",
    "## Lesson: Polymorphism, Abstraction, and Encapsulation\n",
    "### Assignment 1: Polymorphism with Methods\n",
    "\n",
    "Create a base class named `Shape` with a method `area`. Create two derived classes `Circle` and `Square` that override the `area` method. Create a list of `Shape` objects and call the `area` method on each object to demonstrate polymorphism."
   ]
  },
  {
   "cell_type": "code",
   "execution_count": null,
   "id": "18790356",
   "metadata": {},
   "outputs": [],
   "source": [
    "import math\n",
    "\n",
    "class Shape:\n",
    "    def area(self):\n",
    "        pass\n",
    "\n",
    "class Circle(Shape):\n",
    "    def __init__(self, radius):\n",
    "        self.radius = radius\n",
    "\n",
    "    def area(self):\n",
    "        return math.pi * self.radius ** 2\n",
    "\n",
    "class Square(Shape):\n",
    "    def __init__(self, side):\n",
    "        self.side = side\n",
    "\n",
    "    def area(self):\n",
    "        return self.side ** 2\n",
    "\n",
    "# Test\n",
    "# shapes = [Circle(5), Square(4)]\n",
    "# for shape in shapes:\n",
    "#     print(shape.area())"
   ]
  },
  {
   "cell_type": "markdown",
   "id": "f4df32cd",
   "metadata": {},
   "source": [
    "### Assignment 2: Polymorphism with Function Arguments\n",
    "\n",
    "Create a function named `describe_shape` that takes a `Shape` object as an argument and calls its `area` method. Create objects of `Circle` and `Square` classes and pass them to the `describe_shape` function."
   ]
  },
  {
   "cell_type": "code",
   "execution_count": null,
   "id": "c296889c",
   "metadata": {},
   "outputs": [],
   "source": [
    "def describe_shape(shape):\n",
    "    print(f\"The area of the shape is: {shape.area()}\")\n",
    "\n",
    "# Test\n",
    "# circle = Circle(5)\n",
    "# square = Square(4)\n",
    "# describe_shape(circle)\n",
    "# describe_shape(square)"
   ]
  },
  {
   "cell_type": "markdown",
   "id": "be16f679",
   "metadata": {},
   "source": [
    "### Assignment 3: Abstract Base Class with Abstract Methods\n",
    "\n",
    "Create an abstract base class named `Vehicle` with an abstract method `start_engine`. Create derived classes `Car` and `Bike` that implement the `start_engine` method. Create objects of the derived classes and call the `start_engine` method."
   ]
  },
  {
   "cell_type": "code",
   "execution_count": null,
   "id": "1575c768",
   "metadata": {},
   "outputs": [],
   "source": [
    "from abc import ABC, abstractmethod\n",
    "\n",
    "class Vehicle(ABC):\n",
    "    @abstractmethod\n",
    "    def start_engine(self):\n",
    "        pass\n",
    "\n",
    "class Car(Vehicle):\n",
    "    def start_engine(self):\n",
    "        print(\"Car engine started\")\n",
    "\n",
    "class Bike(Vehicle):\n",
    "    def start_engine(self):\n",
    "        print(\"Bike engine started\")\n",
    "\n",
    "# Test\n",
    "# car = Car()\n",
    "# bike = Bike()\n",
    "# car.start_engine()\n",
    "# bike.start_engine()"
   ]
  },
  {
   "cell_type": "markdown",
   "id": "2fe7dc46",
   "metadata": {},
   "source": [
    "### Assignment 4: Abstract Base Class with Concrete Methods\n",
    "\n",
    "In the `Vehicle` class, add a concrete method `fuel_type` that returns a generic fuel type. Override this method in `Car` and `Bike` classes to return specific fuel types. Create objects of the derived classes and call the `fuel_type` method."
   ]
  },
  {
   "cell_type": "code",
   "execution_count": null,
   "id": "27df113e",
   "metadata": {},
   "outputs": [],
   "source": [
    "class Vehicle(ABC):\n",
    "    @abstractmethod\n",
    "    def start_engine(self):\n",
    "        pass\n",
    "\n",
    "    def fuel_type(self):\n",
    "        return \"Generic Fuel\"\n",
    "\n",
    "class Car(Vehicle):\n",
    "    def start_engine(self):\n",
    "        print(\"Car engine started\")\n",
    "\n",
    "    def fuel_type(self):\n",
    "        return \"Petrol\"\n",
    "\n",
    "class Bike(Vehicle):\n",
    "    def start_engine(self):\n",
    "        print(\"Bike engine started\")\n",
    "\n",
    "    def fuel_type(self):\n",
    "        return \"Diesel\"\n",
    "\n",
    "# Test\n",
    "# car = Car()\n",
    "# bike = Bike()\n",
    "# print(car.fuel_type())\n",
    "# print(bike.fuel_type())"
   ]
  },
  {
   "cell_type": "markdown",
   "id": "0131b838",
   "metadata": {},
   "source": [
    "### Assignment 5: Encapsulation with Private Attributes\n",
    "\n",
    "Create a class named `BankAccount` with private attributes `account_number` and `balance`. Add methods to deposit and withdraw money, and to check the balance. Ensure that the balance cannot be accessed directly."
   ]
  },
  {
   "cell_type": "code",
   "execution_count": null,
   "id": "cbe35834",
   "metadata": {},
   "outputs": [],
   "source": [
    "class BankAccount:\n",
    "    def __init__(self, account_number, balance=0):\n",
    "        self.__account_number = account_number\n",
    "        self.__balance = balance\n",
    "\n",
    "    def deposit(self, amount):\n",
    "        self.__balance += amount\n",
    "\n",
    "    def withdraw(self, amount):\n",
    "        if amount > self.__balance:\n",
    "            print(\"Insufficient balance!\")\n",
    "        else:\n",
    "            self.__balance -= amount\n",
    "\n",
    "    def check_balance(self):\n",
    "        return self.__balance\n",
    "\n",
    "# Test\n",
    "# account = BankAccount('12345678', 1000)\n",
    "# account.deposit(500)\n",
    "# account.withdraw(200)\n",
    "# print(account.check_balance())  # 1300\n",
    "# account.withdraw(2000)  # Insufficient balance!"
   ]
  },
  {
   "cell_type": "markdown",
   "id": "42d4932c",
   "metadata": {},
   "source": [
    "### Assignment 6: Encapsulation with Property Decorators\n",
    "\n",
    "In the `BankAccount` class, use property decorators to get and set the `balance` attribute. Ensure that the balance cannot be set to a negative value."
   ]
  },
  {
   "cell_type": "code",
   "execution_count": null,
   "id": "26a70e38",
   "metadata": {},
   "outputs": [],
   "source": [
    "class BankAccount:\n",
    "    def __init__(self, account_number, balance=0):\n",
    "        self.__account_number = account_number\n",
    "        self.__balance = balance\n",
    "\n",
    "    @property\n",
    "    def balance(self):\n",
    "        return self.__balance\n",
    "\n",
    "    @balance.setter\n",
    "    def balance(self, amount):\n",
    "        if amount < 0:\n",
    "            print(\"Balance cannot be negative!\")\n",
    "        else:\n",
    "            self.__balance = amount\n",
    "\n",
    "    def deposit(self, amount):\n",
    "        self.balance += amount\n",
    "\n",
    "    def withdraw(self, amount):\n",
    "        if amount > self.balance:\n",
    "            print(\"Insufficient balance!\")\n",
    "        else:\n",
    "            self.balance -= amount\n",
    "\n",
    "# Test\n",
    "# account = BankAccount('12345678', 1000)\n",
    "# account.deposit(500)\n",
    "# account.withdraw(200)\n",
    "# print(account.balance)  # 1300\n",
    "# account.balance = -500  # Balance cannot be negative!"
   ]
  },
  {
   "cell_type": "markdown",
   "id": "5fa95064",
   "metadata": {},
   "source": [
    "### Assignment 7: Combining Encapsulation and Inheritance\n",
    "\n",
    "Create a base class named `Person` with private attributes `name` and `age`. Add methods to get and set these attributes. Create a derived class named `Student` that adds an attribute `student_id`. Create an object of the `Student` class and test the encapsulation."
   ]
  },
  {
   "cell_type": "code",
   "execution_count": null,
   "id": "0155eff0",
   "metadata": {},
   "outputs": [],
   "source": [
    "class Person:\n",
    "    def __init__(self, name, age):\n",
    "        self.__name = name\n",
    "        self.__age = age\n",
    "\n",
    "    def get_name(self):\n",
    "        return self.__name\n",
    "\n",
    "    def set_name(self, name):\n",
    "        self.__name = name\n",
    "\n",
    "    def get_age(self):\n",
    "        return self.__age\n",
    "\n",
    "    def set_age(self, age):\n",
    "        self.__age = age\n",
    "\n",
    "class Student(Person):\n",
    "    def __init__(self, name, age, student_id):\n",
    "        super().__init__(name, age)\n",
    "        self.student_id = student_id\n",
    "\n",
    "# Test\n",
    "# student = Student('John', 20, 'S123')\n",
    "# print(student.get_name(), student.get_age(), student.student_id)\n",
    "# student.set_name('Alice')\n",
    "# student.set_age(22)\n",
    "# print(student.get_name(), student.get_age(), student.student_id)"
   ]
  },
  {
   "cell_type": "markdown",
   "id": "62a03a29",
   "metadata": {},
   "source": [
    "### Assignment 8: Polymorphism with Inheritance\n",
    "\n",
    "Create a base class named `Animal` with a method `speak`. Create two derived classes `Dog` and `Cat` that override the `speak` method. Create a list of `Animal` objects and call the `speak` method on each object to demonstrate polymorphism."
   ]
  },
  {
   "cell_type": "code",
   "execution_count": null,
   "id": "12637374",
   "metadata": {},
   "outputs": [],
   "source": [
    "class Animal:\n",
    "    def speak(self):\n",
    "        pass\n",
    "\n",
    "class Dog(Animal):\n",
    "    def speak(self):\n",
    "        print(\"Dog says: Woof!\")\n",
    "\n",
    "class Cat(Animal):\n",
    "    def speak(self):\n",
    "        print(\"Cat says: Meow!\")\n",
    "\n",
    "# Test\n",
    "# animals = [Dog(), Cat()]\n",
    "# for animal in animals:\n",
    "#     animal.speak()"
   ]
  },
  {
   "cell_type": "markdown",
   "id": "e5009ceb",
   "metadata": {},
   "source": [
    "### Assignment 9: Abstract Methods in Base Class\n",
    "\n",
    "Create an abstract base class named `Employee` with an abstract method `calculate_salary`. Create two derived classes `FullTimeEmployee` and `PartTimeEmployee` that implement the `calculate_salary` method. Create objects of the derived classes and call the `calculate_salary` method."
   ]
  },
  {
   "cell_type": "code",
   "execution_count": null,
   "id": "c919d6d1",
   "metadata": {},
   "outputs": [],
   "source": [
    "class Employee(ABC):\n",
    "    @abstractmethod\n",
    "    def calculate_salary(self):\n",
    "        pass\n",
    "\n",
    "class FullTimeEmployee(Employee):\n",
    "    def __init__(self, salary):\n",
    "        self.salary = salary\n",
    "\n",
    "    def calculate_salary(self):\n",
    "        return self.salary\n",
    "\n",
    "class PartTimeEmployee(Employee):\n",
    "    def __init__(self, hourly_rate, hours_worked):\n",
    "        self.hourly_rate = hourly_rate\n",
    "        self.hours_worked = hours_worked\n",
    "\n",
    "    def calculate_salary(self):\n",
    "        return self.hourly_rate * self.hours_worked\n",
    "\n",
    "# Test\n",
    "# full_time = FullTimeEmployee(5000)\n",
    "# part_time = PartTimeEmployee(20, 80)\n",
    "# print(full_time.calculate_salary())  # 5000\n",
    "# print(part_time.calculate_salary())  # 1600"
   ]
  },
  {
   "cell_type": "markdown",
   "id": "4b3194c9",
   "metadata": {},
   "source": [
    "### Assignment 10: Encapsulation in Data Classes\n",
    "\n",
    "Create a data class named `Product` with private attributes `product_id`, `name`, and `price`. Add methods to get and set these attributes. Ensure that the price cannot be set to a negative value."
   ]
  },
  {
   "cell_type": "code",
   "execution_count": null,
   "id": "b25fed5d",
   "metadata": {},
   "outputs": [],
   "source": [
    "class Product:\n",
    "    def __init__(self, product_id, name, price):\n",
    "        self.__product_id = product_id\n",
    "        self.__name = name\n",
    "        self.__price = price\n",
    "\n",
    "    def get_product_id(self):\n",
    "        return self.__product_id\n",
    "\n",
    "    def get_name(self):\n",
    "        return self.__name\n",
    "\n",
    "    def get_price(self):\n",
    "        return self.__price\n",
    "\n",
    "    def set_product_id(self, product_id):\n",
    "        self.__product_id = product_id\n",
    "\n",
    "    def set_name(self, name):\n",
    "        self.__name = name\n",
    "\n",
    "    def set_price(self, price):\n",
    "        if price < 0:\n",
    "            print(\"Price cannot be negative!\")\n",
    "        else:\n",
    "            self.__price = price\n",
    "\n",
    "# Test\n",
    "# product = Product('P001', 'Laptop', 1000)\n",
    "# print(product.get_product_id(), product.get_name(), product.get_price())\n",
    "# product.set_price(-500)  # Price cannot be negative!\n",
    "# product.set_price(1500)\n",
    "# print(product.get_product_id(), product.get_name(), product.get_price())"
   ]
  },
  {
   "cell_type": "markdown",
   "id": "a383048a",
   "metadata": {},
   "source": [
    "### Assignment 11: Polymorphism with Operator Overloading\n",
    "\n",
    "Create a class named `Vector` with attributes `x` and `y`. Overload the `+` operator to add two `Vector` objects. Create objects of the class and test the operator overloading."
   ]
  },
  {
   "cell_type": "code",
   "execution_count": null,
   "id": "9a7a6cfc",
   "metadata": {},
   "outputs": [],
   "source": [
    "class Vector:\n",
    "    def __init__(self, x, y):\n",
    "        self.x = x\n",
    "        self.y = y\n",
    "\n",
    "    def __add__(self, other):\n",
    "        return Vector(self.x + other.x, self.y + other.y)\n",
    "\n",
    "    def __str__(self):\n",
    "        return f\"Vector({self.x}, {self.y})\"\n",
    "\n",
    "# Test\n",
    "# v1 = Vector(2, 3)\n",
    "# v2 = Vector(4, 5)\n",
    "# v3 = v1 + v2\n",
    "# print(v3)  # Vector(6, 8)"
   ]
  },
  {
   "cell_type": "markdown",
   "id": "8b664851",
   "metadata": {},
   "source": [
    "### Assignment 12: Abstract Properties\n",
    "\n",
    "Create an abstract base class named `Appliance` with an abstract property `power`. Create two derived classes `WashingMachine` and `Refrigerator` that implement the `power` property. Create objects of the derived classes and access the `power` property."
   ]
  },
  {
   "cell_type": "code",
   "execution_count": null,
   "id": "1130c93b",
   "metadata": {},
   "outputs": [],
   "source": [
    "class Appliance(ABC):\n",
    "    @property\n",
    "    @abstractmethod\n",
    "    def power(self):\n",
    "        pass\n",
    "\n",
    "class WashingMachine(Appliance):\n",
    "    @property\n",
    "    def power(self):\n",
    "        return \"500W\"\n",
    "\n",
    "class Refrigerator(Appliance):\n",
    "    @property\n",
    "    def power(self):\n",
    "        return \"300W\"\n",
    "\n",
    "# Test\n",
    "# wm = WashingMachine()\n",
    "# fridge = Refrigerator()\n",
    "# print(wm.power)  # 500W\n",
    "# print(fridge.power)  # 300W"
   ]
  },
  {
   "cell_type": "markdown",
   "id": "6245ad3f",
   "metadata": {},
   "source": [
    "### Assignment 13: Encapsulation in Class Hierarchies\n",
    "\n",
    "Create a base class named `Account` with private attributes `account_number` and `balance`. Add methods to get and set these attributes. Create a derived class named `SavingsAccount` that adds an attribute `interest_rate`. Create an object of the `SavingsAccount` class and test the encapsulation."
   ]
  },
  {
   "cell_type": "code",
   "execution_count": null,
   "id": "6263551e",
   "metadata": {},
   "outputs": [],
   "source": [
    "class Account:\n",
    "    def __init__(self, account_number, balance=0):\n",
    "        self.__account_number = account_number\n",
    "        self.__balance = balance\n",
    "\n",
    "    def get_account_number(self):\n",
    "        return self.__account_number\n",
    "\n",
    "    def get_balance(self):\n",
    "        return self.__balance\n",
    "\n",
    "    def set_balance(self, balance):\n",
    "        if balance < 0:\n",
    "            print(\"Balance cannot be negative!\")\n",
    "        else:\n",
    "            self.__balance = balance\n",
    "\n",
    "class SavingsAccount(Account):\n",
    "    def __init__(self, account_number, balance, interest_rate):\n",
    "        super().__init__(account_number, balance)\n",
    "        self.interest_rate = interest_rate\n",
    "\n",
    "# Test\n",
    "# savings = SavingsAccount('12345678', 1000, 0.05)\n",
    "# print(savings.get_account_number(), savings.get_balance(), savings.interest_rate)\n",
    "# savings.set_balance(1500)\n",
    "# print(savings.get_account_number(), savings.get_balance(), savings.interest_rate)"
   ]
  },
  {
   "cell_type": "markdown",
   "id": "45eea292",
   "metadata": {},
   "source": [
    "### Assignment 14: Polymorphism with Multiple Inheritance\n",
    "\n",
    "Create a class named `Flyer` with a method `fly`. Create a class named `Swimmer` with a method `swim`. Create a class named `Superhero` that inherits from both `Flyer` and `Swimmer` and overrides both methods. Create an object of the `Superhero` class and call both methods."
   ]
  },
  {
   "cell_type": "code",
   "execution_count": null,
   "id": "b9404f7a",
   "metadata": {},
   "outputs": [],
   "source": [
    "class Flyer:\n",
    "    def fly(self):\n",
    "        print(\"Flying...\")\n",
    "\n",
    "class Swimmer:\n",
    "    def swim(self):\n",
    "        print(\"Swimming...\")\n",
    "\n",
    "class Superhero(Flyer, Swimmer):\n",
    "    def fly(self):\n",
    "        print(\"Superhero flying...\")\n",
    "\n",
    "    def swim(self):\n",
    "        print(\"Superhero swimming...\")\n",
    "\n",
    "# Test\n",
    "# superhero = Superhero()\n",
    "# superhero.fly()\n",
    "# superhero.swim()"
   ]
  },
  {
   "cell_type": "markdown",
   "id": "416735cd",
   "metadata": {},
   "source": [
    "### Assignment 15: Abstract Methods and Multiple Inheritance\n",
    "\n",
    "Create an abstract base class named `Worker` with an abstract method `work`. Create two derived classes `Engineer` and `Doctor` that implement the `work` method. Create another derived class `Scientist` that inherits from both `Engineer` and `Doctor`. Create an object of the `Scientist` class and call the `work` method."
   ]
  },
  {
   "cell_type": "code",
   "execution_count": null,
   "id": "c4eee417",
   "metadata": {},
   "outputs": [],
   "source": [
    "class Worker(ABC):\n",
    "    @abstractmethod\n",
    "    def work(self):\n",
    "        pass\n",
    "\n",
    "class Engineer(Worker):\n",
    "    def work(self):\n",
    "        print(\"Engineer working...\")\n",
    "\n",
    "class Doctor(Worker):\n",
    "    def work(self):\n",
    "        print(\"Doctor working...\")\n",
    "\n",
    "class Scientist(Engineer, Doctor):\n",
    "    def work(self):\n",
    "        Engineer.work(self)\n",
    "        Doctor.work(self)\n",
    "\n",
    "# Test\n",
    "# scientist = Scientist()\n",
    "# scientist.work()"
   ]
  }
 ],
 "metadata": {
  "kernelspec": {
   "display_name": "Python 3",
   "language": "python",
   "name": "python3"
  },
  "language_info": {
   "codemirror_mode": {
    "name": "ipython",
    "version": 3
   },
   "file_extension": ".py",
   "mimetype": "text/x-python",
   "name": "python",
   "nbconvert_exporter": "python",
   "pygments_lexer": "ipython3",
   "version": "3.9.7"
  }
 },
 "nbformat": 4,
 "nbformat_minor": 5
}
