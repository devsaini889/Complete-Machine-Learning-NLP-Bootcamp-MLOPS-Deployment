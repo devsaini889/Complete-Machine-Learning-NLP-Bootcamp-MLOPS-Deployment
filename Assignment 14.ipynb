{
 "cells": [
  {
   "cell_type": "markdown",
   "metadata": {},
   "source": [
    "# Module: Logging Assignments\n",
    "## Lesson: Logging\n",
    "### Assignment 1: Basic Logging\n",
    "\n",
    "1. Write a Python function to create a basic logger that logs messages to a file named `app.log`."
   ]
  },
  {
   "cell_type": "code",
   "execution_count": 1,
   "metadata": {},
   "outputs": [],
   "source": [
    "import logging\n",
    "\n",
    "def basic_logger():\n",
    "    logging.basicConfig(filename='app.log', level=logging.DEBUG)\n",
    "    logging.debug('This is a debug message')\n",
    "    logging.info('This is an info message')\n",
    "    logging.warning('This is a warning message')\n",
    "    logging.error('This is an error message')\n",
    "    logging.critical('This is a critical message')\n",
    "\n",
    "# Test the function\n",
    "basic_logger()"
   ]
  },
  {
   "cell_type": "markdown",
   "metadata": {},
   "source": [
    "2. Modify the function to log messages of levels: DEBUG, INFO, WARNING, ERROR, and CRITICAL."
   ]
  },
  {
   "cell_type": "code",
   "execution_count": null,
   "metadata": {},
   "outputs": [],
   "source": [
    "# The modification is already included in the above function."
   ]
  },
  {
   "cell_type": "markdown",
   "metadata": {},
   "source": [
    "### Assignment 2: Logging with Different Handlers\n",
    "\n",
    "1. Write a Python function to create a logger that logs messages to both a file named `app.log` and the console."
   ]
  },
  {
   "cell_type": "code",
   "execution_count": null,
   "metadata": {},
   "outputs": [],
   "source": [
    "def logger_with_handlers():\n",
    "    logger = logging.getLogger('my_logger')\n",
    "    logger.setLevel(logging.DEBUG)\n",
    "    \n",
    "    file_handler = logging.FileHandler('app.log')\n",
    "    console_handler = logging.StreamHandler()\n",
    "    \n",
    "    file_handler.setLevel(logging.DEBUG)\n",
    "    console_handler.setLevel(logging.DEBUG)\n",
    "    \n",
    "    formatter = logging.Formatter('%(asctime)s - %(name)s - %(levelname)s - %(message)s')\n",
    "    file_handler.setFormatter(formatter)\n",
    "    console_handler.setFormatter(formatter)\n",
    "    \n",
    "    logger.addHandler(file_handler)\n",
    "    logger.addHandler(console_handler)\n",
    "    \n",
    "    logger.debug('This is a debug message')\n",
    "    logger.info('This is an info message')\n",
    "    logger.warning('This is a warning message')\n",
    "    logger.error('This is an error message')\n",
    "    logger.critical('This is a critical message')\n",
    "\n",
    "# Test the function\n",
    "logger_with_handlers()"
   ]
  },
  {
   "cell_type": "markdown",
   "metadata": {},
   "source": [
    "2. Modify the function to use different logging levels for the file and console handlers."
   ]
  },
  {
   "cell_type": "code",
   "execution_count": null,
   "metadata": {},
   "outputs": [],
   "source": [
    "# The modification is already included in the above function."
   ]
  },
  {
   "cell_type": "markdown",
   "metadata": {},
   "source": [
    "### Assignment 3: Formatting Log Messages\n",
    "\n",
    "1. Write a Python function to create a logger with a custom log message format that includes the timestamp, logging level, and message."
   ]
  },
  {
   "cell_type": "code",
   "execution_count": null,
   "metadata": {},
   "outputs": [],
   "source": [
    "def logger_with_custom_format():\n",
    "    logger = logging.getLogger('custom_logger')\n",
    "    logger.setLevel(logging.DEBUG)\n",
    "    \n",
    "    file_handler = logging.FileHandler('custom_app.log')\n",
    "    console_handler = logging.StreamHandler()\n",
    "    \n",
    "    formatter = logging.Formatter('%(asctime)s - %(levelname)s - %(message)s')\n",
    "    file_handler.setFormatter(formatter)\n",
    "    console_handler.setFormatter(formatter)\n",
    "    \n",
    "    logger.addHandler(file_handler)\n",
    "    logger.addHandler(console_handler)\n",
    "    \n",
    "    logger.debug('This is a debug message')\n",
    "    logger.info('This is an info message')\n",
    "    logger.warning('This is a warning message')\n",
    "    logger.error('This is an error message')\n",
    "    logger.critical('This is a critical message')\n",
    "\n",
    "# Test the function\n",
    "logger_with_custom_format()"
   ]
  },
  {
   "cell_type": "markdown",
   "metadata": {},
   "source": [
    "2. Modify the function to use different formats for the file and console handlers."
   ]
  },
  {
   "cell_type": "code",
   "execution_count": null,
   "metadata": {},
   "outputs": [],
   "source": [
    "def logger_with_different_formats():\n",
    "    logger = logging.getLogger('multi_format_logger')\n",
    "    logger.setLevel(logging.DEBUG)\n",
    "    \n",
    "    file_handler = logging.FileHandler('multi_format_app.log')\n",
    "    console_handler = logging.StreamHandler()\n",
    "    \n",
    "    file_formatter = logging.Formatter('%(asctime)s - %(name)s - %(levelname)s - %(message)s')\n",
    "    console_formatter = logging.Formatter('%(asctime)s - %(levelname)s - %(message)s')\n",
    "    file_handler.setFormatter(file_formatter)\n",
    "    console_handler.setFormatter(console_formatter)\n",
    "    \n",
    "    logger.addHandler(file_handler)\n",
    "    logger.addHandler(console_handler)\n",
    "    \n",
    "    logger.debug('This is a debug message')\n",
    "    logger.info('This is an info message')\n",
    "    logger.warning('This is a warning message')\n",
    "    logger.error('This is an error message')\n",
    "    logger.critical('This is a critical message')\n",
    "\n",
    "# Test the function\n",
    "logger_with_different_formats()"
   ]
  },
  {
   "cell_type": "markdown",
   "metadata": {},
   "source": [
    "### Assignment 4: Rotating Log Files\n",
    "\n",
    "1. Write a Python function to create a logger that uses a rotating file handler, which creates a new log file when the current log file reaches a certain size."
   ]
  },
  {
   "cell_type": "code",
   "execution_count": null,
   "metadata": {},
   "outputs": [],
   "source": [
    "from logging.handlers import RotatingFileHandler\n",
    "\n",
    "def logger_with_rotating_file_handler():\n",
    "    logger = logging.getLogger('rotating_logger')\n",
    "    logger.setLevel(logging.DEBUG)\n",
    "    \n",
    "    rotating_handler = RotatingFileHandler('rotating_app.log', maxBytes=2000, backupCount=5)\n",
    "    formatter = logging.Formatter('%(asctime)s - %(name)s - %(levelname)s - %(message)s')\n",
    "    rotating_handler.setFormatter(formatter)\n",
    "    \n",
    "    logger.addHandler(rotating_handler)\n",
    "    \n",
    "    for i in range(100):\n",
    "        logger.debug('This is debug message number {}'.format(i))\n",
    "\n",
    "# Test the function\n",
    "logger_with_rotating_file_handler()"
   ]
  },
  {
   "cell_type": "markdown",
   "metadata": {},
   "source": [
    "2. Modify the function to keep a specified number of backup log files."
   ]
  },
  {
   "cell_type": "code",
   "execution_count": null,
   "metadata": {},
   "outputs": [],
   "source": [
    "# The modification is already included in the above function with backupCount=5."
   ]
  },
  {
   "cell_type": "markdown",
   "metadata": {},
   "source": [
    "### Assignment 5: Logging Exceptions\n",
    "\n",
    "1. Write a Python function that logs an exception stack trace to a log file when an exception occurs."
   ]
  },
  {
   "cell_type": "code",
   "execution_count": null,
   "metadata": {},
   "outputs": [],
   "source": [
    "def log_exception():\n",
    "    logger = logging.getLogger('exception_logger')\n",
    "    logger.setLevel(logging.ERROR)\n",
    "    \n",
    "    file_handler = logging.FileHandler('exception_app.log')\n",
    "    formatter = logging.Formatter('%(asctime)s - %(name)s - %(levelname)s - %(message)s')\n",
    "    file_handler.setFormatter(formatter)\n",
    "    \n",
    "    logger.addHandler(file_handler)\n",
    "    \n",
    "    try:\n",
    "        1 / 0\n",
    "    except Exception as e:\n",
    "        logger.exception(\"An exception occurred\")\n",
    "\n",
    "# Test the function\n",
    "log_exception()"
   ]
  },
  {
   "cell_type": "markdown",
   "metadata": {},
   "source": [
    "2. Modify the function to log the stack trace at the ERROR level."
   ]
  },
  {
   "cell_type": "code",
   "execution_count": null,
   "metadata": {},
   "outputs": [],
   "source": [
    "# The modification is already included in the above function."
   ]
  },
  {
   "cell_type": "markdown",
   "metadata": {},
   "source": [
    "### Assignment 6: Contextual Logging\n",
    "\n",
    "1. Write a Python function to create a logger that includes contextual information (e.g., function name, line number) in the log messages."
   ]
  },
  {
   "cell_type": "code",
   "execution_count": null,
   "metadata": {},
   "outputs": [],
   "source": [
    "def logger_with_context():\n",
    "    logger = logging.getLogger('context_logger')\n",
    "    logger.setLevel(logging.DEBUG)\n",
    "    \n",
    "    file_handler = logging.FileHandler('context_app.log')\n",
    "    formatter = logging.Formatter('%(asctime)s - %(name)s - %(levelname)s - %(message)s - %(funcName)s - %(lineno)d')\n",
    "    file_handler.setFormatter(formatter)\n",
    "    \n",
    "    logger.addHandler(file_handler)\n",
    "    \n",
    "    def test_func():\n",
    "        logger.debug('This is a debug message')\n",
    "        logger.info('This is an info message')\n",
    "        logger.warning('This is a warning message')\n",
    "        logger.error('This is an error message')\n",
    "        logger.critical('This is a critical message')\n",
    "    \n",
    "    test_func()\n",
    "\n",
    "# Test the function\n",
    "logger_with_context()"
   ]
  },
  {
   "cell_type": "markdown",
   "metadata": {},
   "source": [
    "2. Modify the function to include additional contextual information (e.g., user ID, session ID)."
   ]
  },
  {
   "cell_type": "code",
   "execution_count": null,
   "metadata": {},
   "outputs": [],
   "source": [
    "def logger_with_additional_context(user_id, session_id):\n",
    "    logger = logging.getLogger('additional_context_logger')\n",
    "    logger.setLevel(logging.DEBUG)\n",
    "    \n",
    "    file_handler = logging.FileHandler('additional_context_app.log')\n",
    "    formatter = logging.Formatter('%(asctime)s - %(name)s - %(levelname)s - %(message)s - %(funcName)s - %(lineno)d - UserID: %(user_id)s - SessionID: %(session_id)s')\n",
    "    file_handler.setFormatter(formatter)\n",
    "    \n",
    "    logger.addHandler(file_handler)\n",
    "    \n",
    "    extra = {'user_id': user_id, 'session_id': session_id}\n",
    "    \n",
    "    def test_func():\n",
    "        logger.debug('This is a debug message', extra=extra)\n",
    "        logger.info('This is an info message', extra=extra)\n",
    "        logger.warning('This is a warning message', extra=extra)\n",
    "        logger.error('This is an error message', extra=extra)\n",
    "        logger.critical('This is a critical message', extra=extra)\n",
    "    \n",
    "    test_func()\n",
    "\n",
    "# Test the function\n",
    "logger_with_additional_context('user123', 'session456')"
   ]
  },
  {
   "cell_type": "markdown",
   "metadata": {},
   "source": [
    "### Assignment 7: Configuring Logging with a Dictionary\n",
    "\n",
    "1. Write a Python function to configure logging using a dictionary. The configuration should include handlers for both file and console logging."
   ]
  },
  {
   "cell_type": "code",
   "execution_count": null,
   "metadata": {},
   "outputs": [],
   "source": [
    "import logging.config\n",
    "\n",
    "def configure_logging_with_dict():\n",
    "    log_config = {\n",
    "        'version': 1,\n",
    "        'formatters': {\n",
    "            'default': {\n",
    "                'format': '%(asctime)s - %(name)s - %(levelname)s - %(message)s'\n",
    "            },\n",
    "            'detailed': {\n",
    "                'format': '%(asctime)s - %(name)s - %(levelname)s - %(message)s - %(funcName)s - %(lineno)d'\n",
    "            }\n",
    "        },\n",
    "        'handlers': {\n",
    "            'file': {\n",
    "                'class': 'logging.FileHandler',\n",
    "                'filename': 'dict_config_app.log',\n",
    "                'formatter': 'detailed',\n",
    "                'level': 'DEBUG'\n",
    "            },\n",
    "            'console': {\n",
    "                'class': 'logging.StreamHandler',\n",
    "                'formatter': 'default',\n",
    "                'level': 'DEBUG'\n",
    "            }\n",
    "        },\n",
    "        'root': {\n",
    "            'handlers': ['file', 'console'],\n",
    "            'level': 'DEBUG'\n",
    "        }\n",
    "    }\n",
    "    logging.config.dictConfig(log_config)\n",
    "    logger = logging.getLogger('')\n",
    "    logger.debug('This is a debug message')\n",
    "    logger.info('This is an info message')\n",
    "    logger.warning('This is a warning message')\n",
    "    logger.error('This is an error message')\n",
    "    logger.critical('This is a critical message')\n",
    "\n",
    "# Test the function\n",
    "configure_logging_with_dict()"
   ]
  },
  {
   "cell_type": "markdown",
   "metadata": {},
   "source": [
    "2. Modify the dictionary to include different logging levels and formats for each handler."
   ]
  },
  {
   "cell_type": "code",
   "execution_count": null,
   "metadata": {},
   "outputs": [],
   "source": [
    "# The modification is already included in the above function."
   ]
  },
  {
   "cell_type": "markdown",
   "metadata": {},
   "source": [
    "### Assignment 8: Logging in a Multi-Module Application\n",
    "\n",
    "1. Write a Python script that sets up logging for a multi-module application. Each module should have its own logger."
   ]
  },
  {
   "cell_type": "markdown",
   "metadata": {},
   "source": [
    "#### File: `main.py`"
   ]
  },
  {
   "cell_type": "code",
   "execution_count": null,
   "metadata": {},
   "outputs": [],
   "source": [
    "import logging\n",
    "from module_a import module_a_function\n",
    "from module_b import module_b_function\n",
    "\n",
    "def setup_logging():\n",
    "    log_config = {\n",
    "        'version': 1,\n",
    "        'formatters': {\n",
    "            'default': {\n",
    "                'format': '%(asctime)s - %(name)s - %(levelname)s - %(message)s'\n",
    "            }\n",
    "        },\n",
    "        'handlers': {\n",
    "            'file': {\n",
    "                'class': 'logging.FileHandler',\n",
    "                'filename': 'multi_module_app.log',\n",
    "                'formatter': 'default',\n",
    "                'level': 'DEBUG'\n",
    "            },\n",
    "            'console': {\n",
    "                'class': 'logging.StreamHandler',\n",
    "                'formatter': 'default',\n",
    "                'level': 'DEBUG'\n",
    "            }\n",
    "        },\n",
    "        'root': {\n",
    "            'handlers': ['file', 'console'],\n",
    "            'level': 'DEBUG'\n",
    "        }\n",
    "    }\n",
    "    logging.config.dictConfig(log_config)\n",
    "\n",
    "# Main script\n",
    "if __name__ == '__main__':\n",
    "    setup_logging()\n",
    "    logger = logging.getLogger(__name__)\n",
    "    logger.info('Main module started')\n",
    "    module_a_function()\n",
    "    module_b_function()\n",
    "    logger.info('Main module finished')"
   ]
  },
  {
   "cell_type": "markdown",
   "metadata": {},
   "source": [
    "#### File: `module_a.py`"
   ]
  },
  {
   "cell_type": "code",
   "execution_count": null,
   "metadata": {},
   "outputs": [],
   "source": [
    "import logging\n",
    "\n",
    "def module_a_function():\n",
    "    logger = logging.getLogger(__name__)\n",
    "    logger.info('Module A function started')\n",
    "    logger.debug('This is a debug message from Module A')\n",
    "    logger.info('Module A function finished')"
   ]
  },
  {
   "cell_type": "markdown",
   "metadata": {},
   "source": [
    "#### File: `module_b.py`"
   ]
  },
  {
   "cell_type": "code",
   "execution_count": null,
   "metadata": {},
   "outputs": [],
   "source": [
    "import logging\n",
    "\n",
    "def module_b_function():\n",
    "    logger = logging.getLogger(__name__)\n",
    "    logger.info('Module B function started')\n",
    "    logger.debug('This is a debug message from Module B')\n",
    "    logger.info('Module B function finished')"
   ]
  },
  {
   "cell_type": "markdown",
   "metadata": {},
   "source": [
    "2. Modify the script to propagate log messages from each module's logger to a root logger that handles logging to a file."
   ]
  },
  {
   "cell_type": "code",
   "execution_count": null,
   "metadata": {},
   "outputs": [],
   "source": [
    "# The modification is already included in the above scripts. Each module's logger messages propagate to the root logger."
   ]
  },
  {
   "cell_type": "markdown",
   "metadata": {},
   "source": [
    "### Assignment 9: Logging Performance\n",
    "\n",
    "1. Write a Python script to benchmark the performance of logging with different handlers (e.g., file handler, console handler, rotating file handler)."
   ]
  },
  {
   "cell_type": "code",
   "execution_count": null,
   "metadata": {},
   "outputs": [],
   "source": [
    "import logging\n",
    "import time\n",
    "from logging.handlers import RotatingFileHandler\n",
    "\n",
    "def benchmark_logging_performance():\n",
    "    logger = logging.getLogger('performance_logger')\n",
    "    logger.setLevel(logging.DEBUG)\n",
    "\n",
    "    # File handler\n",
    "    file_handler = logging.FileHandler('performance_file.log')\n",
    "    file_handler.setLevel(logging.DEBUG)\n",
    "    logger.addHandler(file_handler)\n",
    "\n",
    "    start_time = time.time()\n",
    "    for i in range(10000):\n",
    "        logger.debug('This is a debug message')\n",
    "    end_time = time.time()\n",
    "    print('File handler logging time: {} seconds'.format(end_time - start_time))\n",
    "    logger.removeHandler(file_handler)\n",
    "\n",
    "    # Console handler\n",
    "    console_handler = logging.StreamHandler()\n",
    "    console_handler.setLevel(logging.DEBUG)\n",
    "    logger.addHandler(console_handler)\n",
    "\n",
    "    start_time = time.time()\n",
    "    for i in range(10000):\n",
    "        logger.debug('This is a debug message')\n",
    "    end_time = time.time()\n",
    "    print('Console handler logging time: {} seconds'.format(end_time - start_time))\n",
    "    logger.removeHandler(console_handler)\n",
    "\n",
    "    # Rotating file handler\n",
    "    rotating_handler = RotatingFileHandler('performance_rotating.log', maxBytes=2000, backupCount=5)\n",
    "    rotating_handler.setLevel(logging.DEBUG)\n",
    "    logger.addHandler(rotating_handler)\n",
    "\n",
    "    start_time = time.time()\n",
    "    for i in range(10000):\n",
    "        logger.debug('This is a debug message')\n",
    "    end_time = time.time()\n",
    "    print('Rotating file handler logging time: {} seconds'.format(end_time - start_time))\n",
    "    logger.removeHandler(rotating_handler)\n",
    "\n",
    "# Test the function\n",
    "benchmark_logging_performance()"
   ]
  },
  {
   "cell_type": "markdown",
   "metadata": {},
   "source": [
    "2. Modify the script to compare the performance of logging with and without message formatting."
   ]
  },
  {
   "cell_type": "code",
   "execution_count": null,
   "metadata": {},
   "outputs": [],
   "source": [
    "def benchmark_logging_formatting_performance():\n",
    "    logger = logging.getLogger('formatting_performance_logger')\n",
    "    logger.setLevel(logging.DEBUG)\n",
    "\n",
    "    # File handler without formatting\n",
    "    file_handler = logging.FileHandler('performance_no_format.log')\n",
    "    file_handler.setLevel(logging.DEBUG)\n",
    "    logger.addHandler(file_handler)\n",
    "\n",
    "    start_time = time.time()\n",
    "    for i in range(10000):\n",
    "        logger.debug('This is a debug message')\n",
    "    end_time = time.time()\n",
    "    print('File handler logging time without formatting: {} seconds'.format(end_time - start_time))\n",
    "    logger.removeHandler(file_handler)\n",
    "\n",
    "    # File handler with formatting\n",
    "    file_handler = logging.FileHandler('performance_with_format.log')\n",
    "    file_handler.setLevel(logging.DEBUG)\n",
    "    formatter = logging.Formatter('%(asctime)s - %(name)s - %(levelname)s - %(message)s')\n",
    "    file_handler.setFormatter(formatter)\n",
    "    logger.addHandler(file_handler)\n",
    "\n",
    "    start_time = time.time()\n",
    "    for i in range(10000):\n",
    "        logger.debug('This is a debug message')\n",
    "    end_time = time.time()\n",
    "    print('File handler logging time with formatting: {} seconds'.format(end_time - start_time))\n",
    "    logger.removeHandler(file_handler)\n",
    "\n",
    "# Test the function\n",
    "benchmark_logging_formatting_performance()"
   ]
  },
  {
   "cell_type": "markdown",
   "metadata": {},
   "source": [
    "### Assignment 10: Advanced Logging Configuration\n",
    "\n",
    "1. Write a Python function to configure logging using an external configuration file (e.g., `logging.conf`). The configuration should include handlers for file and console logging."
   ]
  },
  {
   "cell_type": "markdown",
   "metadata": {},
   "source": [
    "#### File: `logging.conf`"
   ]
  },
  {
   "cell_type": "code",
   "execution_count": null,
   "metadata": {},
   "outputs": [],
   "source": [
    "[loggers]\n",
    "keys=root\n",
    "\n",
    "[handlers]\n",
    "keys=fileHandler,consoleHandler\n",
    "\n",
    "[formatters]\n",
    "keys=defaultFormatter\n",
    "\n",
    "[logger_root]\n",
    "level=DEBUG\n",
    "handlers=fileHandler,consoleHandler\n",
    "\n",
    "[handler_fileHandler]\n",
    "class=FileHandler\n",
    "level=DEBUG\n",
    "formatter=defaultFormatter\n",
    "args=('advanced_logging_app.log', 'a')\n",
    "\n",
    "[handler_consoleHandler]\n",
    "class=StreamHandler\n",
    "level=DEBUG\n",
    "formatter=defaultFormatter\n",
    "args=(sys.stdout,)\n",
    "\n",
    "[formatter_defaultFormatter]\n",
    "format=%(asctime)s - %(name)s - %(levelname)s - %(message)s"
   ]
  },
  {
   "cell_type": "markdown",
   "metadata": {},
   "source": [
    "#### File: `main.py`"
   ]
  },
  {
   "cell_type": "code",
   "execution_count": null,
   "metadata": {},
   "outputs": [],
   "source": [
    "import logging.config\n",
    "\n",
    "def setup_logging_from_file():\n",
    "    logging.config.fileConfig('logging.conf')\n",
    "    logger = logging.getLogger(__name__)\n",
    "    logger.debug('This is a debug message')\n",
    "    logger.info('This is an info message')\n",
    "    logger.warning('This is a warning message')\n",
    "    logger.error('This is an error message')\n",
    "    logger.critical('This is a critical message')\n",
    "\n",
    "# Test the function\n",
    "setup_logging_from_file()"
   ]
  },
  {
   "cell_type": "markdown",
   "metadata": {},
   "source": [
    "2. Modify the configuration file to use different logging levels and formats for each handler."
   ]
  },
  {
   "cell_type": "code",
   "execution_count": null,
   "metadata": {},
   "outputs": [],
   "source": [
    "# The modification is already included in the above configuration file."
   ]
  }
 ],
 "metadata": {
  "kernelspec": {
   "display_name": "Python 3",
   "language": "python",
   "name": "python3"
  },
  "language_info": {
   "codemirror_mode": {
    "name": "ipython",
    "version": 3
   },
   "file_extension": ".py",
   "mimetype": "text/x-python",
   "name": "python",
   "nbconvert_exporter": "python",
   "pygments_lexer": "ipython3",
   "version": "3.10.6"
  }
 },
 "nbformat": 4,
 "nbformat_minor": 5
}
