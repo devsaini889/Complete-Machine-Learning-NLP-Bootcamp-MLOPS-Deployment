{
 "cells": [
  {
   "cell_type": "markdown",
   "metadata": {},
   "source": [
    "# Module: SQLite3 Assignments\n",
    "## Lesson: SQLite3\n",
    "### Assignment 1: Creating and Connecting to a Database\n",
    "\n",
    "1. Write a Python function to create a new SQLite3 database named `test.db`."
   ]
  },
  {
   "cell_type": "code",
   "execution_count": null,
   "metadata": {},
   "outputs": [
    {
     "name": "stdout",
     "output_type": "stream",
     "text": [
      "Database created and successfully connected.\n",
      "<sqlite3.Connection object at 0x00000151C74A0540>\n"
     ]
    }
   ],
   "source": [
    "import sqlite3\n",
    "\n",
    "def create_database():\n",
    "    conn = sqlite3.connect('test.db')\n",
    "    conn.close()\n",
    "    print(\"Database created and successfully connected.\")\n",
    "\n",
    "\n",
    "# Test the function\n",
    "create_database()"
   ]
  },
  {
   "cell_type": "markdown",
   "metadata": {},
   "source": [
    "2. Write a Python function to create a table named `employees` with columns `id` (integer), `name` (text), `age` (integer), and `department` (text) in the `test.db` database."
   ]
  },
  {
   "cell_type": "code",
   "execution_count": 3,
   "metadata": {},
   "outputs": [
    {
     "name": "stdout",
     "output_type": "stream",
     "text": [
      "Table 'employees' created successfully.\n"
     ]
    }
   ],
   "source": [
    "def create_table():\n",
    "    conn = sqlite3.connect('test.db')\n",
    "    cursor = conn.cursor()\n",
    "    cursor.execute('''\n",
    "        CREATE TABLE IF NOT EXISTS employees (\n",
    "            id INTEGER PRIMARY KEY,\n",
    "            name TEXT NOT NULL,\n",
    "            age INTEGER,\n",
    "            department TEXT\n",
    "        )\n",
    "    ''')\n",
    "    conn.commit()\n",
    "    conn.close()\n",
    "    print(\"Table 'employees' created successfully.\")\n",
    "\n",
    "# Test the function\n",
    "create_table()"
   ]
  },
  {
   "cell_type": "markdown",
   "metadata": {},
   "source": [
    "### Assignment 2: Inserting Data\n",
    "\n",
    "1. Write a Python function to insert a new employee into the `employees` table."
   ]
  },
  {
   "cell_type": "code",
   "execution_count": 4,
   "metadata": {},
   "outputs": [
    {
     "name": "stdout",
     "output_type": "stream",
     "text": [
      "Employee inserted successfully.\n"
     ]
    }
   ],
   "source": [
    "def insert_employee(id, name, age, department):\n",
    "    conn = sqlite3.connect('test.db')\n",
    "    cursor = conn.cursor()\n",
    "    cursor.execute('''\n",
    "        INSERT INTO employees (id, name, age, department)\n",
    "        VALUES (?, ?, ?, ?)\n",
    "    ''', (id, name, age, department))\n",
    "    conn.commit()\n",
    "    conn.close()\n",
    "    print(\"Employee inserted successfully.\")\n",
    "\n",
    "# Test the function\n",
    "insert_employee(1, 'Alice', 30, 'HR')"
   ]
  },
  {
   "cell_type": "markdown",
   "metadata": {},
   "source": [
    "2. Insert at least 5 different employees into the `employees` table."
   ]
  },
  {
   "cell_type": "code",
   "execution_count": 5,
   "metadata": {},
   "outputs": [
    {
     "name": "stdout",
     "output_type": "stream",
     "text": [
      "Employee inserted successfully.\n",
      "Employee inserted successfully.\n",
      "Employee inserted successfully.\n",
      "Employee inserted successfully.\n"
     ]
    }
   ],
   "source": [
    "# Insert 5 different employees\n",
    "insert_employee(2, 'Bob', 25, 'Engineering')\n",
    "insert_employee(3, 'Charlie', 28, 'Sales')\n",
    "insert_employee(4, 'David', 35, 'Marketing')\n",
    "insert_employee(5, 'Eve', 22, 'HR')"
   ]
  },
  {
   "cell_type": "markdown",
   "metadata": {},
   "source": [
    "### Assignment 3: Querying Data\n",
    "\n",
    "1. Write a Python function to fetch and display all records from the `employees` table."
   ]
  },
  {
   "cell_type": "code",
   "execution_count": 6,
   "metadata": {},
   "outputs": [
    {
     "name": "stdout",
     "output_type": "stream",
     "text": [
      "(1, 'Alice', 30, 'HR')\n",
      "(2, 'Bob', 25, 'Engineering')\n",
      "(3, 'Charlie', 28, 'Sales')\n",
      "(4, 'David', 35, 'Marketing')\n",
      "(5, 'Eve', 22, 'HR')\n"
     ]
    }
   ],
   "source": [
    "def fetch_all_employees():\n",
    "    conn = sqlite3.connect('test.db')\n",
    "    cursor = conn.cursor()\n",
    "    cursor.execute('SELECT * FROM employees')\n",
    "    records = cursor.fetchall()\n",
    "    conn.close()\n",
    "    for record in records:\n",
    "        print(record)\n",
    "\n",
    "# Test the function\n",
    "fetch_all_employees()"
   ]
  },
  {
   "cell_type": "markdown",
   "metadata": {},
   "source": [
    "2. Write a Python function to fetch and display all employees from a specific department."
   ]
  },
  {
   "cell_type": "code",
   "execution_count": 8,
   "metadata": {},
   "outputs": [
    {
     "name": "stdout",
     "output_type": "stream",
     "text": [
      "(5, 'Eve', 22, 'HR')\n"
     ]
    }
   ],
   "source": [
    "def fetch_employees_by_department(department):\n",
    "    conn = sqlite3.connect('test.db')\n",
    "    cursor = conn.cursor()\n",
    "    cursor.execute('SELECT * FROM employees WHERE department = ?', (department,))\n",
    "    records = cursor.fetchall()\n",
    "    conn.close()\n",
    "    for record in records:\n",
    "        print(record)\n",
    "\n",
    "# Test the function\n",
    "fetch_employees_by_department('HR')"
   ]
  },
  {
   "cell_type": "markdown",
   "metadata": {},
   "source": [
    "### Assignment 4: Updating Data\n",
    "\n",
    "1. Write a Python function to update the department of an employee based on their `id`."
   ]
  },
  {
   "cell_type": "code",
   "execution_count": 9,
   "metadata": {},
   "outputs": [
    {
     "name": "stdout",
     "output_type": "stream",
     "text": [
      "Employee department updated successfully.\n"
     ]
    }
   ],
   "source": [
    "def update_employee_department(employee_id, new_department):\n",
    "    conn = sqlite3.connect('test.db')\n",
    "    cursor = conn.cursor()\n",
    "    cursor.execute('''\n",
    "        UPDATE employees\n",
    "        SET department = ?\n",
    "        WHERE id = ?\n",
    "    ''', (new_department, employee_id))\n",
    "    conn.commit()\n",
    "    conn.close()\n",
    "    print(\"Employee department updated successfully.\")\n",
    "\n",
    "# Test the function\n",
    "update_employee_department(1, 'Finance')"
   ]
  },
  {
   "cell_type": "markdown",
   "metadata": {},
   "source": [
    "2. Update the department of at least 2 employees and display the updated records."
   ]
  },
  {
   "cell_type": "code",
   "execution_count": 10,
   "metadata": {},
   "outputs": [
    {
     "name": "stdout",
     "output_type": "stream",
     "text": [
      "Employee department updated successfully.\n",
      "Employee department updated successfully.\n",
      "(1, 'Alice', 30, 'Finance')\n",
      "(2, 'Bob', 25, 'Research')\n",
      "(3, 'Charlie', 28, 'Customer Support')\n",
      "(4, 'David', 35, 'Marketing')\n",
      "(5, 'Eve', 22, 'HR')\n"
     ]
    }
   ],
   "source": [
    "# Update the department of 2 employees\n",
    "update_employee_department(2, 'Research')\n",
    "update_employee_department(3, 'Customer Support')\n",
    "\n",
    "# Fetch and display all records\n",
    "fetch_all_employees()"
   ]
  },
  {
   "cell_type": "markdown",
   "metadata": {},
   "source": [
    "### Assignment 5: Deleting Data\n",
    "\n",
    "1. Write a Python function to delete an employee from the `employees` table based on their `id`."
   ]
  },
  {
   "cell_type": "code",
   "execution_count": 11,
   "metadata": {},
   "outputs": [
    {
     "name": "stdout",
     "output_type": "stream",
     "text": [
      "Employee deleted successfully.\n"
     ]
    }
   ],
   "source": [
    "def delete_employee(employee_id):\n",
    "    conn = sqlite3.connect('test.db')\n",
    "    cursor = conn.cursor()\n",
    "    cursor.execute('''\n",
    "        DELETE FROM employees\n",
    "        WHERE id = ?\n",
    "    ''', (employee_id,))\n",
    "    conn.commit()\n",
    "    conn.close()\n",
    "    print(\"Employee deleted successfully.\")\n",
    "\n",
    "# Test the function\n",
    "delete_employee(5)"
   ]
  },
  {
   "cell_type": "markdown",
   "metadata": {},
   "source": [
    "2. Delete at least 1 employee and display the remaining records."
   ]
  },
  {
   "cell_type": "code",
   "execution_count": 12,
   "metadata": {},
   "outputs": [
    {
     "name": "stdout",
     "output_type": "stream",
     "text": [
      "Employee deleted successfully.\n",
      "(1, 'Alice', 30, 'Finance')\n",
      "(2, 'Bob', 25, 'Research')\n",
      "(3, 'Charlie', 28, 'Customer Support')\n"
     ]
    }
   ],
   "source": [
    "# Delete an employee\n",
    "delete_employee(4)\n",
    "\n",
    "# Fetch and display all records\n",
    "fetch_all_employees()"
   ]
  },
  {
   "cell_type": "markdown",
   "metadata": {},
   "source": [
    "### Assignment 6: Advanced Queries\n",
    "\n",
    "1. Write a Python function to fetch and display employees older than a certain age."
   ]
  },
  {
   "cell_type": "code",
   "execution_count": 13,
   "metadata": {},
   "outputs": [
    {
     "name": "stdout",
     "output_type": "stream",
     "text": [
      "(1, 'Alice', 30, 'Finance')\n",
      "(3, 'Charlie', 28, 'Customer Support')\n"
     ]
    }
   ],
   "source": [
    "def fetch_employees_older_than(age):\n",
    "    conn = sqlite3.connect('test.db')\n",
    "    cursor = conn.cursor()\n",
    "    cursor.execute('SELECT * FROM employees WHERE age > ?', (age,))\n",
    "    records = cursor.fetchall()\n",
    "    conn.close()\n",
    "    for record in records:\n",
    "        print(record)\n",
    "\n",
    "# Test the function\n",
    "fetch_employees_older_than(25)"
   ]
  },
  {
   "cell_type": "markdown",
   "metadata": {},
   "source": [
    "2. Write a Python function to fetch and display employees whose names start with a specific letter."
   ]
  },
  {
   "cell_type": "code",
   "execution_count": 14,
   "metadata": {},
   "outputs": [
    {
     "name": "stdout",
     "output_type": "stream",
     "text": [
      "(1, 'Alice', 30, 'Finance')\n"
     ]
    }
   ],
   "source": [
    "def fetch_employees_name_starts_with(letter):\n",
    "    conn = sqlite3.connect('test.db')\n",
    "    cursor = conn.cursor()\n",
    "    cursor.execute('SELECT * FROM employees WHERE name LIKE ?', (letter + '%',))\n",
    "    records = cursor.fetchall()\n",
    "    conn.close()\n",
    "    for record in records:\n",
    "        print(record)\n",
    "\n",
    "# Test the function\n",
    "fetch_employees_name_starts_with('A')"
   ]
  },
  {
   "cell_type": "markdown",
   "metadata": {},
   "source": [
    "### Assignment 7: Handling Transactions\n",
    "\n",
    "1. Write a Python function to insert multiple employees into the `employees` table in a single transaction. Ensure that if any insertion fails, none of the insertions are committed."
   ]
  },
  {
   "cell_type": "code",
   "execution_count": 16,
   "metadata": {},
   "outputs": [
    {
     "name": "stdout",
     "output_type": "stream",
     "text": [
      "Error occurred, transaction rolled back.\n",
      "UNIQUE constraint failed: employees.id\n"
     ]
    }
   ],
   "source": [
    "def insert_multiple_employees(employees):\n",
    "    conn = sqlite3.connect('test.db')\n",
    "    cursor = conn.cursor()\n",
    "    try:\n",
    "        cursor.executemany('''\n",
    "            INSERT INTO employees (id, name, age, department)\n",
    "            VALUES (?, ?, ?, ?)\n",
    "        ''', employees)\n",
    "        conn.commit()\n",
    "        print(\"All employees inserted successfully.\")\n",
    "    except Exception as e:\n",
    "        conn.rollback()\n",
    "        print(\"Error occurred, transaction rolled back.\")\n",
    "        print(e)\n",
    "    finally:\n",
    "        conn.close()\n",
    "\n",
    "# Test the function with valid and invalid data\n",
    "employees = [\n",
    "    (6, 'Frank', 40, 'Finance'),\n",
    "    (7, 'Grace', 29, 'Engineering'),\n",
    "    (8, 'Hannah', 35, 'Marketing'),\n",
    "    (9, 'Ivan', 38, 'Sales'),\n",
    "    (6, 'Jack', 45, 'HR')  # Duplicate ID to cause an error\n",
    "]\n",
    "insert_multiple_employees(employees)"
   ]
  },
  {
   "cell_type": "markdown",
   "metadata": {},
   "source": [
    "2. Write a Python function to update the age of multiple employees in a single transaction. Ensure that if any update fails, none of the updates are committed."
   ]
  },
  {
   "cell_type": "code",
   "execution_count": 17,
   "metadata": {},
   "outputs": [
    {
     "name": "stdout",
     "output_type": "stream",
     "text": [
      "All employee ages updated successfully.\n"
     ]
    }
   ],
   "source": [
    "def update_multiple_employees_ages(updates):\n",
    "    conn = sqlite3.connect('test.db')\n",
    "    cursor = conn.cursor()\n",
    "    try:\n",
    "        cursor.executemany('''\n",
    "            UPDATE employees\n",
    "            SET age = ?\n",
    "            WHERE id = ?\n",
    "        ''', updates)\n",
    "        conn.commit()\n",
    "        print(\"All employee ages updated successfully.\")\n",
    "    except Exception as e:\n",
    "        conn.rollback()\n",
    "        print(\"Error occurred, transaction rolled back.\")\n",
    "        print(e)\n",
    "    finally:\n",
    "        conn.close()\n",
    "\n",
    "# Test the function with valid and invalid data\n",
    "updates = [\n",
    "    (32, 1),\n",
    "    (26, 2),\n",
    "    (33, 3),\n",
    "    (41, 4),  # Non-existing ID to cause an error\n",
    "    (23, 5)\n",
    "]\n",
    "update_multiple_employees_ages(updates)"
   ]
  },
  {
   "cell_type": "markdown",
   "metadata": {},
   "source": [
    "### Assignment 8: Creating Relationships\n",
    "\n",
    "1. Create a new table named `departments` with columns `id` (integer) and `name` (text)."
   ]
  },
  {
   "cell_type": "code",
   "execution_count": 18,
   "metadata": {},
   "outputs": [
    {
     "name": "stdout",
     "output_type": "stream",
     "text": [
      "Table 'departments' created successfully.\n"
     ]
    }
   ],
   "source": [
    "def create_departments_table():\n",
    "    conn = sqlite3.connect('test.db')\n",
    "    cursor = conn.cursor()\n",
    "    cursor.execute('''\n",
    "        CREATE TABLE IF NOT EXISTS departments (\n",
    "            id INTEGER PRIMARY KEY,\n",
    "            name TEXT NOT NULL\n",
    "        )\n",
    "    ''')\n",
    "    conn.commit()\n",
    "    conn.close()\n",
    "    print(\"Table 'departments' created successfully.\")\n",
    "\n",
    "# Test the function\n",
    "create_departments_table()"
   ]
  },
  {
   "cell_type": "markdown",
   "metadata": {},
   "source": [
    "2. Modify the `employees` table to include a foreign key referencing the `id` column in the `departments` table."
   ]
  },
  {
   "cell_type": "code",
   "execution_count": null,
   "metadata": {},
   "outputs": [
    {
     "ename": "Warning",
     "evalue": "You can only execute one statement at a time.",
     "output_type": "error",
     "traceback": [
      "\u001b[1;31m---------------------------------------------------------------------------\u001b[0m",
      "\u001b[1;31mWarning\u001b[0m                                   Traceback (most recent call last)",
      "Cell \u001b[1;32mIn[21], line 23\u001b[0m\n\u001b[0;32m     20\u001b[0m     \u001b[38;5;28mprint\u001b[39m(\u001b[38;5;124m\"\u001b[39m\u001b[38;5;124mTable \u001b[39m\u001b[38;5;124m'\u001b[39m\u001b[38;5;124memployees\u001b[39m\u001b[38;5;124m'\u001b[39m\u001b[38;5;124m modified successfully.\u001b[39m\u001b[38;5;124m\"\u001b[39m)\n\u001b[0;32m     22\u001b[0m \u001b[38;5;66;03m# Test the function\u001b[39;00m\n\u001b[1;32m---> 23\u001b[0m \u001b[43madd_department_foreign_key\u001b[49m\u001b[43m(\u001b[49m\u001b[43m)\u001b[49m\n",
      "Cell \u001b[1;32mIn[21], line 4\u001b[0m, in \u001b[0;36madd_department_foreign_key\u001b[1;34m()\u001b[0m\n\u001b[0;32m      2\u001b[0m conn \u001b[38;5;241m=\u001b[39m sqlite3\u001b[38;5;241m.\u001b[39mconnect(\u001b[38;5;124m'\u001b[39m\u001b[38;5;124mtest.db\u001b[39m\u001b[38;5;124m'\u001b[39m)\n\u001b[0;32m      3\u001b[0m cursor \u001b[38;5;241m=\u001b[39m conn\u001b[38;5;241m.\u001b[39mcursor()\n\u001b[1;32m----> 4\u001b[0m \u001b[43mcursor\u001b[49m\u001b[38;5;241;43m.\u001b[39;49m\u001b[43mexecute\u001b[49m\u001b[43m(\u001b[49m\u001b[38;5;124;43m'''\u001b[39;49m\n\u001b[0;32m      5\u001b[0m \u001b[38;5;124;43m    PRAGMA foreign_keys=off;\u001b[39;49m\n\u001b[0;32m      6\u001b[0m \u001b[38;5;124;43m    BEGIN TRANSACTION;\u001b[39;49m\n\u001b[0;32m      7\u001b[0m \u001b[38;5;124;43m    ALTER TABLE employees RENAME TO old_employees;\u001b[39;49m\n\u001b[0;32m      8\u001b[0m \u001b[38;5;124;43m    CREATE TABLE employees (\u001b[39;49m\n\u001b[0;32m      9\u001b[0m \u001b[38;5;124;43m        id INTEGER PRIMARY KEY,\u001b[39;49m\n\u001b[0;32m     10\u001b[0m \u001b[38;5;124;43m        name TEXT NOT NULL,\u001b[39;49m\n\u001b[0;32m     11\u001b[0m \u001b[38;5;124;43m        age INTEGER,\u001b[39;49m\n\u001b[0;32m     12\u001b[0m \u001b[38;5;124;43m        department TEXT,\u001b[39;49m\n\u001b[0;32m     13\u001b[0m \u001b[38;5;124;43m        department_id INTEGER,\u001b[39;49m\n\u001b[0;32m     14\u001b[0m \u001b[38;5;124;43m        FOREIGN KEY(department_id) REFERENCES departments(id)\u001b[39;49m\n\u001b[0;32m     15\u001b[0m \u001b[38;5;124;43m    );\u001b[39;49m\n\u001b[0;32m     16\u001b[0m \u001b[38;5;124;43m  \u001b[39;49m\n\u001b[0;32m     17\u001b[0m \u001b[38;5;124;43m\u001b[39;49m\u001b[38;5;124;43m'''\u001b[39;49m\u001b[43m)\u001b[49m\n\u001b[0;32m     18\u001b[0m conn\u001b[38;5;241m.\u001b[39mcommit()\n\u001b[0;32m     19\u001b[0m conn\u001b[38;5;241m.\u001b[39mclose()\n",
      "\u001b[1;31mWarning\u001b[0m: You can only execute one statement at a time."
     ]
    }
   ],
   "source": [
    "def add_department_foreign_key():\n",
    "    conn = sqlite3.connect('test.db')\n",
    "    cursor = conn.cursor()\n",
    "    cursor.execute('''\n",
    "        PRAGMA foreign_keys=off;\n",
    "        BEGIN TRANSACTION;\n",
    "        ALTER TABLE employees RENAME TO old_employees;\n",
    "        CREATE TABLE employees (\n",
    "            id INTEGER PRIMARY KEY,\n",
    "            name TEXT NOT NULL,\n",
    "            age INTEGER,\n",
    "            department TEXT,\n",
    "            department_id INTEGER,\n",
    "            FOREIGN KEY(department_id) REFERENCES departments(id)\n",
    "        );\n",
    "        INSERT INTO employees (id, name, age, department)\n",
    "        SELECT id, name, age, department FROM old_employees;\n",
    "        DROP TABLE old_employees;\n",
    "        COMMIT;\n",
    "        PRAGMA foreign_keys=on;\n",
    "    ''')\n",
    "    conn.commit()\n",
    "    conn.close()\n",
    "    print(\"Table 'employees' modified successfully.\")\n",
    "\n",
    "# Test the function\n",
    "add_department_foreign_key()"
   ]
  },
  {
   "cell_type": "markdown",
   "metadata": {},
   "source": [
    "3. Write a Python function to insert data into both the `departments` and `employees` tables, ensuring referential integrity."
   ]
  },
  {
   "cell_type": "code",
   "execution_count": 22,
   "metadata": {},
   "outputs": [
    {
     "name": "stdout",
     "output_type": "stream",
     "text": [
      "Error occurred, transaction rolled back.\n",
      "table employees has no column named department_id\n"
     ]
    }
   ],
   "source": [
    "def insert_department_and_employee(department_id, department_name, employee_id, name, age, department):\n",
    "    conn = sqlite3.connect('test.db')\n",
    "    cursor = conn.cursor()\n",
    "    try:\n",
    "        cursor.execute('''\n",
    "            INSERT INTO departments (id, name)\n",
    "            VALUES (?, ?)\n",
    "        ''', (department_id, department_name))\n",
    "        cursor.execute('''\n",
    "            INSERT INTO employees (id, name, age, department, department_id)\n",
    "            VALUES (?, ?, ?, ?, ?)\n",
    "        ''', (employee_id, name, age, department, department_id))\n",
    "        conn.commit()\n",
    "        print(\"Department and employee inserted successfully.\")\n",
    "    except Exception as e:\n",
    "        conn.rollback()\n",
    "        print(\"Error occurred, transaction rolled back.\")\n",
    "        print(e)\n",
    "    finally:\n",
    "        conn.close()\n",
    "\n",
    "# Test the function\n",
    "insert_department_and_employee(1, 'Finance', 10, 'Zara', 28, 'Finance')"
   ]
  },
  {
   "cell_type": "markdown",
   "metadata": {},
   "source": [
    "### Assignment 9: Indexing and Optimization\n",
    "\n",
    "1. Create an index on the `name` column of the `employees` table."
   ]
  },
  {
   "cell_type": "code",
   "execution_count": 23,
   "metadata": {},
   "outputs": [
    {
     "name": "stdout",
     "output_type": "stream",
     "text": [
      "Index on 'name' column created successfully.\n"
     ]
    }
   ],
   "source": [
    "def create_index_on_name():\n",
    "    conn = sqlite3.connect('test.db')\n",
    "    cursor = conn.cursor()\n",
    "    cursor.execute('CREATE INDEX idx_name ON employees(name)')\n",
    "    conn.commit()\n",
    "    conn.close()\n",
    "    print(\"Index on 'name' column created successfully.\")\n",
    "\n",
    "# Test the function\n",
    "create_index_on_name()"
   ]
  },
  {
   "cell_type": "markdown",
   "metadata": {},
   "source": [
    "2. Write a Python function to fetch and display all employees whose names start with a specific letter. Compare the performance with and without the index."
   ]
  },
  {
   "cell_type": "code",
   "execution_count": 24,
   "metadata": {},
   "outputs": [
    {
     "name": "stdout",
     "output_type": "stream",
     "text": [
      "Time taken: 0.0 seconds\n",
      "(1, 'Alice', 32, 'Finance')\n"
     ]
    }
   ],
   "source": [
    "import time\n",
    "\n",
    "def fetch_employees_name_starts_with_performance(letter):\n",
    "    conn = sqlite3.connect('test.db')\n",
    "    cursor = conn.cursor()\n",
    "    start_time = time.time()\n",
    "    cursor.execute('SELECT * FROM employees WHERE name LIKE ?', (letter + '%',))\n",
    "    records = cursor.fetchall()\n",
    "    end_time = time.time()\n",
    "    conn.close()\n",
    "    print(\"Time taken: {} seconds\".format(end_time - start_time))\n",
    "    for record in records:\n",
    "        print(record)\n",
    "\n",
    "# Test the function with the index\n",
    "fetch_employees_name_starts_with_performance('A')"
   ]
  },
  {
   "cell_type": "markdown",
   "metadata": {},
   "source": [
    "### Assignment 10: Backing Up and Restoring Data\n",
    "\n",
    "1. Write a Python function to back up the `test.db` database to a file named `backup.db`."
   ]
  },
  {
   "cell_type": "code",
   "execution_count": 25,
   "metadata": {},
   "outputs": [
    {
     "name": "stdout",
     "output_type": "stream",
     "text": [
      "Database backed up successfully.\n"
     ]
    }
   ],
   "source": [
    "import shutil\n",
    "\n",
    "def backup_database():\n",
    "    shutil.copy('test.db', 'backup.db')\n",
    "    print(\"Database backed up successfully.\")\n",
    "\n",
    "# Test the function\n",
    "backup_database()"
   ]
  },
  {
   "cell_type": "markdown",
   "metadata": {},
   "source": [
    "2. Write a Python function to restore the `test.db` database from the `backup.db` file."
   ]
  },
  {
   "cell_type": "code",
   "execution_count": 26,
   "metadata": {},
   "outputs": [
    {
     "name": "stdout",
     "output_type": "stream",
     "text": [
      "Database restored successfully.\n"
     ]
    }
   ],
   "source": [
    "def restore_database():\n",
    "    shutil.copy('backup.db', 'test.db')\n",
    "    print(\"Database restored successfully.\")\n",
    "\n",
    "# Test the function\n",
    "restore_database()"
   ]
  },
  {
   "cell_type": "code",
   "execution_count": null,
   "id": "4d684e91",
   "metadata": {},
   "outputs": [],
   "source": []
  }
 ],
 "metadata": {
  "kernelspec": {
   "display_name": "Python 3",
   "language": "python",
   "name": "python3"
  },
  "language_info": {
   "codemirror_mode": {
    "name": "ipython",
    "version": 3
   },
   "file_extension": ".py",
   "mimetype": "text/x-python",
   "name": "python",
   "nbconvert_exporter": "python",
   "pygments_lexer": "ipython3",
   "version": "3.10.6"
  }
 },
 "nbformat": 4,
 "nbformat_minor": 5
}
